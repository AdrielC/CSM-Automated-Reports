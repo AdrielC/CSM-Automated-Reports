{
 "cells": [
  {
   "cell_type": "code",
   "execution_count": 13,
   "metadata": {
    "collapsed": true
   },
   "outputs": [],
   "source": [
    "import requests\n",
    "import setup as mongler\n",
    "import pandas as pd\n",
    "import time as time\n",
    "from pymongo import MongoClient\n",
    "\n",
    "## Configure mongo\n",
    "mongo_client = MongoClient(mongler.MONGO_ADDRESS,mongler.MONGO_PORT)\n",
    "reportsDB = mongo_client.BYUbridge.reports\n",
    "\n",
    "## Make requests to bridge for list of reports\n",
    "headers = {\"Authorization\":\"Token %s\" % mongler.TOKEN}\n",
    "\n",
    "## returns all of the reports on the bridge that contain an exact match to a keyword\n",
    "def GetReportList(keyword):\n",
    "    reports = []\n",
    "    pageNum = 1\n",
    "    while True:\n",
    "        payload = {'page':pageNum, 'perPage':'100'}\n",
    "        r = requests.get('https://byu-csm.symplicity.com/api/public/v1/reports', params = payload, headers=headers)\n",
    "        models = r.json()['models']\n",
    "        if len(models) == 0:\n",
    "            break\n",
    "        else:\n",
    "            reports.append(models)\n",
    "            pageNum += 1\n",
    "\n",
    "    ### Find reports with the name ADRIEL in the Label\n",
    "    keywordReports = []\n",
    "    for page in reports:\n",
    "        for report in page:\n",
    "            if keyword in report['label']:\n",
    "                keywordReports.append(report)\n",
    "\n",
    "    ## This will print all of the reports\n",
    "    return keywordReports\n",
    "\n",
    "## Run the desired report\n",
    "def RunReport(reportID, headers, payload):\n",
    "    request = requests.put('https://byu-csm.symplicity.com/api/public/v1/reports/%s/run' %reportID, headers=headers)\n",
    "    ## This while loop waits until the most recent report to be completed\n",
    "    while True:\n",
    "        time.sleep(6)\n",
    "        ## this payload will request only the most recent run\n",
    "        tmp_payload = {'page':'1', 'perPage':'1'}\n",
    "        r = requests.get('https://byu-csm.symplicity.com/api/public/v1/reports/%s/runs' %reportID, params = tmp_payload, headers=headers)\n",
    "        tmp = r.json()\n",
    "        if tmp['models'][0]['label'] == 'complete':\n",
    "            break\n",
    "    ## Once the report is run and completed, get the report run data\n",
    "    request = requests.get('https://byu-csm.symplicity.com/api/public/v1/reports/%s/data' %reportID, headers=headers, params=payload)\n",
    "    df = pd.read_json(request.text)\n",
    "\n",
    "    ## Use row 1 as the header for the column names and then drop the row\n",
    "    df.columns = df.iloc[0]\n",
    "    return df.reindex(df.index.drop(0))\n",
    "\n",
    "## This Main function will run all the desired reports given a certain keyword\n",
    "def main():\n",
    "    ## Get the list of Reports\n",
    "    adrielReports = GetReportList('ADRIEL')\n",
    "    print(adrielReports)\n",
    "\n",
    "    ## Name all of the reports based on label\n",
    "    for i, report in enumerate(adrielReports):\n",
    "        if 'Full Student List' in report['label']:\n",
    "            fullStudent = report\n",
    "        elif 'Archived Events' in report['label']:\n",
    "            archivedAttendees = report\n",
    "        elif 'Non-archived' in report['label']:\n",
    "            nonArchivedEvents = report\n",
    "        else:\n",
    "            print(\"Named %n reports\" %(i +1))\n",
    "            break\n",
    "\n",
    "    ## Run reports\n",
    "    payload = {'format':'csv'}\n",
    "    studentReport = RunReport(fullStudent['id'], headers, payload)\n",
    "    attendeeReport = RunReport(archivedAttendees['id'], headers, payload)\n",
    "    attendeeReport2 = RunReport(nonArchivedEvents['id'], headers, payload)\n",
    "\n",
    "    ## Append the attendee reports and merge\n",
    "    attendeeReport = attendeeReport.append(attendeeReport2)\n",
    "    attendeeReport = attendeeReport.merge(studentReport, left_on='Kiosk Swipe Log: student', right_on='Name')\n",
    "    attendeeReport.to_csv(path_of_buf = '~/MAIN/BCC/Club\\ data/attendeeReport.csv')"
   ]
  },
  {
   "cell_type": "code",
   "execution_count": 14,
   "metadata": {},
   "outputs": [
    {
     "name": "stdout",
     "output_type": "stream",
     "text": [
      "[{'id': 'ed00dd19bc35455ee260ea478a77c633', 'label': 'Non-archived Events - Marriott School Club and Attendees **ADRIEL**', 'description': '', 'lastRun': '2017-10-24T02:31:10'}, {'id': 'a041bd505d5e5d143798b79e88d64c00', 'label': 'Archived Events - Marriott School Club and Attendees **ADRIEL**', 'description': '', 'lastRun': '2017-10-24T02:30:57'}, {'id': 'e5dcb7ef720881dc8a580753d14d9e84', 'label': 'Full Student List **ADRIEL**', 'description': 'List of all current students and their contact info', 'lastRun': '2017-10-24T02:30:33'}]\n"
     ]
    },
    {
     "ename": "ValueError",
     "evalue": "Trailing data",
     "output_type": "error",
     "traceback": [
      "\u001b[0;31m---------------------------------------------------------------------------\u001b[0m",
      "\u001b[0;31mValueError\u001b[0m                                Traceback (most recent call last)",
      "\u001b[0;32m<ipython-input-14-58ca95c5b364>\u001b[0m in \u001b[0;36m<module>\u001b[0;34m()\u001b[0m\n\u001b[0;32m----> 1\u001b[0;31m \u001b[0mmain\u001b[0m\u001b[0;34m(\u001b[0m\u001b[0;34m)\u001b[0m\u001b[0;34m\u001b[0m\u001b[0m\n\u001b[0m",
      "\u001b[0;32m<ipython-input-13-4b993b4a925c>\u001b[0m in \u001b[0;36mmain\u001b[0;34m()\u001b[0m\n\u001b[1;32m     76\u001b[0m     \u001b[0;31m## Run reports\u001b[0m\u001b[0;34m\u001b[0m\u001b[0;34m\u001b[0m\u001b[0m\n\u001b[1;32m     77\u001b[0m     \u001b[0mpayload\u001b[0m \u001b[0;34m=\u001b[0m \u001b[0;34m{\u001b[0m\u001b[0;34m'format'\u001b[0m\u001b[0;34m:\u001b[0m\u001b[0;34m'csv'\u001b[0m\u001b[0;34m}\u001b[0m\u001b[0;34m\u001b[0m\u001b[0m\n\u001b[0;32m---> 78\u001b[0;31m     \u001b[0mstudentReport\u001b[0m \u001b[0;34m=\u001b[0m \u001b[0mRunReport\u001b[0m\u001b[0;34m(\u001b[0m\u001b[0mfullStudent\u001b[0m\u001b[0;34m[\u001b[0m\u001b[0;34m'id'\u001b[0m\u001b[0;34m]\u001b[0m\u001b[0;34m,\u001b[0m \u001b[0mheaders\u001b[0m\u001b[0;34m,\u001b[0m \u001b[0mpayload\u001b[0m\u001b[0;34m)\u001b[0m\u001b[0;34m\u001b[0m\u001b[0m\n\u001b[0m\u001b[1;32m     79\u001b[0m     \u001b[0mattendeeReport\u001b[0m \u001b[0;34m=\u001b[0m \u001b[0mRunReport\u001b[0m\u001b[0;34m(\u001b[0m\u001b[0marchivedAttendees\u001b[0m\u001b[0;34m[\u001b[0m\u001b[0;34m'id'\u001b[0m\u001b[0;34m]\u001b[0m\u001b[0;34m,\u001b[0m \u001b[0mheaders\u001b[0m\u001b[0;34m,\u001b[0m \u001b[0mpayload\u001b[0m\u001b[0;34m)\u001b[0m\u001b[0;34m\u001b[0m\u001b[0m\n\u001b[1;32m     80\u001b[0m     \u001b[0mattendeeReport2\u001b[0m \u001b[0;34m=\u001b[0m \u001b[0mRunReport\u001b[0m\u001b[0;34m(\u001b[0m\u001b[0mnonArchivedEvents\u001b[0m\u001b[0;34m[\u001b[0m\u001b[0;34m'id'\u001b[0m\u001b[0;34m]\u001b[0m\u001b[0;34m,\u001b[0m \u001b[0mheaders\u001b[0m\u001b[0;34m,\u001b[0m \u001b[0mpayload\u001b[0m\u001b[0;34m)\u001b[0m\u001b[0;34m\u001b[0m\u001b[0m\n",
      "\u001b[0;32m<ipython-input-13-4b993b4a925c>\u001b[0m in \u001b[0;36mRunReport\u001b[0;34m(reportID, headers, payload)\u001b[0m\n\u001b[1;32m     50\u001b[0m     \u001b[0;31m## Once the report is run and completed, get the report run data\u001b[0m\u001b[0;34m\u001b[0m\u001b[0;34m\u001b[0m\u001b[0m\n\u001b[1;32m     51\u001b[0m     \u001b[0mrequest\u001b[0m \u001b[0;34m=\u001b[0m \u001b[0mrequests\u001b[0m\u001b[0;34m.\u001b[0m\u001b[0mget\u001b[0m\u001b[0;34m(\u001b[0m\u001b[0;34m'https://byu-csm.symplicity.com/api/public/v1/reports/%s/data'\u001b[0m \u001b[0;34m%\u001b[0m\u001b[0mreportID\u001b[0m\u001b[0;34m,\u001b[0m \u001b[0mheaders\u001b[0m\u001b[0;34m=\u001b[0m\u001b[0mheaders\u001b[0m\u001b[0;34m,\u001b[0m \u001b[0mparams\u001b[0m\u001b[0;34m=\u001b[0m\u001b[0mpayload\u001b[0m\u001b[0;34m)\u001b[0m\u001b[0;34m\u001b[0m\u001b[0m\n\u001b[0;32m---> 52\u001b[0;31m     \u001b[0mdf\u001b[0m \u001b[0;34m=\u001b[0m \u001b[0mpd\u001b[0m\u001b[0;34m.\u001b[0m\u001b[0mread_json\u001b[0m\u001b[0;34m(\u001b[0m\u001b[0mrequest\u001b[0m\u001b[0;34m.\u001b[0m\u001b[0mtext\u001b[0m\u001b[0;34m)\u001b[0m\u001b[0;34m\u001b[0m\u001b[0m\n\u001b[0m\u001b[1;32m     53\u001b[0m \u001b[0;34m\u001b[0m\u001b[0m\n\u001b[1;32m     54\u001b[0m     \u001b[0;31m## Use row 1 as the header for the column names and then drop the row\u001b[0m\u001b[0;34m\u001b[0m\u001b[0;34m\u001b[0m\u001b[0m\n",
      "\u001b[0;32m/Users/adriel/anaconda/lib/python3.6/site-packages/pandas/io/json/json.py\u001b[0m in \u001b[0;36mread_json\u001b[0;34m(path_or_buf, orient, typ, dtype, convert_axes, convert_dates, keep_default_dates, numpy, precise_float, date_unit, encoding, lines)\u001b[0m\n\u001b[1;32m    352\u001b[0m         obj = FrameParser(json, orient, dtype, convert_axes, convert_dates,\n\u001b[1;32m    353\u001b[0m                           \u001b[0mkeep_default_dates\u001b[0m\u001b[0;34m,\u001b[0m \u001b[0mnumpy\u001b[0m\u001b[0;34m,\u001b[0m \u001b[0mprecise_float\u001b[0m\u001b[0;34m,\u001b[0m\u001b[0;34m\u001b[0m\u001b[0m\n\u001b[0;32m--> 354\u001b[0;31m                           date_unit).parse()\n\u001b[0m\u001b[1;32m    355\u001b[0m \u001b[0;34m\u001b[0m\u001b[0m\n\u001b[1;32m    356\u001b[0m     \u001b[0;32mif\u001b[0m \u001b[0mtyp\u001b[0m \u001b[0;34m==\u001b[0m \u001b[0;34m'series'\u001b[0m \u001b[0;32mor\u001b[0m \u001b[0mobj\u001b[0m \u001b[0;32mis\u001b[0m \u001b[0;32mNone\u001b[0m\u001b[0;34m:\u001b[0m\u001b[0;34m\u001b[0m\u001b[0m\n",
      "\u001b[0;32m/Users/adriel/anaconda/lib/python3.6/site-packages/pandas/io/json/json.py\u001b[0m in \u001b[0;36mparse\u001b[0;34m(self)\u001b[0m\n\u001b[1;32m    420\u001b[0m \u001b[0;34m\u001b[0m\u001b[0m\n\u001b[1;32m    421\u001b[0m         \u001b[0;32melse\u001b[0m\u001b[0;34m:\u001b[0m\u001b[0;34m\u001b[0m\u001b[0m\n\u001b[0;32m--> 422\u001b[0;31m             \u001b[0mself\u001b[0m\u001b[0;34m.\u001b[0m\u001b[0m_parse_no_numpy\u001b[0m\u001b[0;34m(\u001b[0m\u001b[0;34m)\u001b[0m\u001b[0;34m\u001b[0m\u001b[0m\n\u001b[0m\u001b[1;32m    423\u001b[0m \u001b[0;34m\u001b[0m\u001b[0m\n\u001b[1;32m    424\u001b[0m         \u001b[0;32mif\u001b[0m \u001b[0mself\u001b[0m\u001b[0;34m.\u001b[0m\u001b[0mobj\u001b[0m \u001b[0;32mis\u001b[0m \u001b[0;32mNone\u001b[0m\u001b[0;34m:\u001b[0m\u001b[0;34m\u001b[0m\u001b[0m\n",
      "\u001b[0;32m/Users/adriel/anaconda/lib/python3.6/site-packages/pandas/io/json/json.py\u001b[0m in \u001b[0;36m_parse_no_numpy\u001b[0;34m(self)\u001b[0m\n\u001b[1;32m    637\u001b[0m         \u001b[0;32mif\u001b[0m \u001b[0morient\u001b[0m \u001b[0;34m==\u001b[0m \u001b[0;34m\"columns\"\u001b[0m\u001b[0;34m:\u001b[0m\u001b[0;34m\u001b[0m\u001b[0m\n\u001b[1;32m    638\u001b[0m             self.obj = DataFrame(\n\u001b[0;32m--> 639\u001b[0;31m                 loads(json, precise_float=self.precise_float), dtype=None)\n\u001b[0m\u001b[1;32m    640\u001b[0m         \u001b[0;32melif\u001b[0m \u001b[0morient\u001b[0m \u001b[0;34m==\u001b[0m \u001b[0;34m\"split\"\u001b[0m\u001b[0;34m:\u001b[0m\u001b[0;34m\u001b[0m\u001b[0m\n\u001b[1;32m    641\u001b[0m             decoded = dict((str(k), v)\n",
      "\u001b[0;31mValueError\u001b[0m: Trailing data"
     ]
    }
   ],
   "source": [
    "main()"
   ]
  },
  {
   "cell_type": "code",
   "execution_count": 5,
   "metadata": {
    "collapsed": true
   },
   "outputs": [],
   "source": [
    "adrielReports = GetReportList('ADRIEL')"
   ]
  },
  {
   "cell_type": "code",
   "execution_count": 6,
   "metadata": {},
   "outputs": [
    {
     "data": {
      "text/plain": [
       "[{'description': '',\n",
       "  'id': 'ed00dd19bc35455ee260ea478a77c633',\n",
       "  'label': 'Non-archived Events - Marriott School Club and Attendees **ADRIEL**',\n",
       "  'lastRun': '2017-10-24T02:31:10'},\n",
       " {'description': '',\n",
       "  'id': 'a041bd505d5e5d143798b79e88d64c00',\n",
       "  'label': 'Archived Events - Marriott School Club and Attendees **ADRIEL**',\n",
       "  'lastRun': '2017-10-24T02:30:57'},\n",
       " {'description': 'List of all current students and their contact info',\n",
       "  'id': 'e5dcb7ef720881dc8a580753d14d9e84',\n",
       "  'label': 'Full Student List **ADRIEL**',\n",
       "  'lastRun': '2017-10-24T02:30:33'}]"
      ]
     },
     "execution_count": 6,
     "metadata": {},
     "output_type": "execute_result"
    }
   ],
   "source": [
    "adrielReports"
   ]
  },
  {
   "cell_type": "code",
   "execution_count": 8,
   "metadata": {},
   "outputs": [
    {
     "name": "stdout",
     "output_type": "stream",
     "text": [
      "Non-archived Events - Marriott School Club and Attendees **ADRIEL**\n",
      "Archived Events - Marriott School Club and Attendees **ADRIEL**\n",
      "Full Student List **ADRIEL**\n"
     ]
    }
   ],
   "source": [
    "for report in adrielReports:\n",
    "    print(report['label'])"
   ]
  },
  {
   "cell_type": "code",
   "execution_count": 10,
   "metadata": {
    "collapsed": true
   },
   "outputs": [],
   "source": [
    "for i, report in enumerate(adrielReports):\n",
    "    if 'Full Student List' in report['label']:\n",
    "            fullStudent = report\n",
    "    elif 'Archived Events' in report['label']:\n",
    "            archivedAttendees = report\n",
    "    elif 'Non-archived' in report['label']:\n",
    "            nonArchivedEvents = report\n",
    "    else:\n",
    "        print(\"Named %n reports, ERROR\" %(i +1))\n",
    "        break"
   ]
  },
  {
   "cell_type": "code",
   "execution_count": 11,
   "metadata": {},
   "outputs": [
    {
     "data": {
      "text/plain": [
       "{'description': 'List of all current students and their contact info',\n",
       " 'id': 'e5dcb7ef720881dc8a580753d14d9e84',\n",
       " 'label': 'Full Student List **ADRIEL**',\n",
       " 'lastRun': '2017-10-24T02:30:33'}"
      ]
     },
     "execution_count": 11,
     "metadata": {},
     "output_type": "execute_result"
    }
   ],
   "source": [
    "fullStudent"
   ]
  },
  {
   "cell_type": "code",
   "execution_count": null,
   "metadata": {
    "collapsed": true
   },
   "outputs": [],
   "source": []
  }
 ],
 "metadata": {
  "kernelspec": {
   "display_name": "Python 3",
   "language": "python",
   "name": "python3"
  },
  "language_info": {
   "codemirror_mode": {
    "name": "ipython",
    "version": 3
   },
   "file_extension": ".py",
   "mimetype": "text/x-python",
   "name": "python",
   "nbconvert_exporter": "python",
   "pygments_lexer": "ipython3",
   "version": "3.6.1"
  }
 },
 "nbformat": 4,
 "nbformat_minor": 2
}
