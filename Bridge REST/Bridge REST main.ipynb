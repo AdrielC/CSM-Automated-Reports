{
 "cells": [
  {
   "cell_type": "code",
   "execution_count": 1,
   "metadata": {
    "collapsed": true
   },
   "outputs": [],
   "source": [
    "import requests\n",
    "import setup as mongler\n",
    "import pandas as pd\n",
    "import time as time\n",
    "from pymongo import MongoClient\n",
    "\n",
    "## Configure mongo\n",
    "mongo_client = MongoClient(mongler.MONGO_ADDRESS,mongler.MONGO_PORT)\n",
    "reportsDB = mongo_client.BYUbridge.reports\n",
    "\n",
    "## Make requests to bridge for list of reports\n",
    "headers = {\"Authorization\":\"Token %s\" % mongler.TOKEN}\n",
    "\n",
    "## returns all of the reports on the bridge that contain an exact match to a keyword\n",
    "def GetReportList(keyword):\n",
    "    reports = []\n",
    "    pageNum = 1\n",
    "    while True:\n",
    "        payload = {'page':pageNum, 'perPage':'100'}\n",
    "        r = requests.get('https://byu-csm.symplicity.com/api/public/v1/reports', params = payload, headers=headers)\n",
    "        models = r.json()['models']\n",
    "        if len(models) == 0:\n",
    "            break\n",
    "        else:\n",
    "            reports.append(models)\n",
    "            pageNum += 1\n",
    "\n",
    "    ### Find reports with the name ADRIEL in the Label\n",
    "    keywordReports = []\n",
    "    for page in reports:\n",
    "        for report in page:\n",
    "            if keyword in report['label']:\n",
    "                keywordReports.append(report)\n",
    "\n",
    "    ## This will print all of the reports\n",
    "    return keywordReports\n",
    "\n",
    "## Run the desired report\n",
    "def RunReport(reportID, headers, payload):\n",
    "    request = requests.put('https://byu-csm.symplicity.com/api/public/v1/reports/%s/run' %reportID, headers=headers)\n",
    "    ## This while loop waits until the most recent report to be completed\n",
    "    while True:\n",
    "        time.sleep(6)\n",
    "        ## this payload will request only the most recent run\n",
    "        tmp_payload = {'page':'1', 'perPage':'1'}\n",
    "        r = requests.get('https://byu-csm.symplicity.com/api/public/v1/reports/%s/runs' %reportID, params = tmp_payload, headers=headers)\n",
    "        tmp = r.json()\n",
    "        if tmp['models'][0]['label'] == 'complete':\n",
    "            break\n",
    "    ## Once the report is run and completed, get the report run data\n",
    "    request = requests.get('https://byu-csm.symplicity.com/api/public/v1/reports/%s/data' %reportID, headers=headers, params=payload)\n",
    "    df = pd.read_json(request.text)\n",
    "\n",
    "    ## Use row 1 as the header for the column names and then drop the row\n",
    "    df.columns = df.iloc[0]\n",
    "    return df.reindex(df.index.drop(0))\n",
    "\n",
    "## This Main function will run all the desired reports given a certain keyword\n",
    "def main():\n",
    "    ## Get the list of Reports\n",
    "    adrielReports = GetReportList('ADRIEL')\n",
    "    print(adrielReports)\n",
    "\n",
    "    ## Name all of the reports based on label\n",
    "    for i in len(adrielReports):\n",
    "        if 'Full Student List' in adrielReports[i]['label']:\n",
    "            fullStudent = adrielReports[i]\n",
    "        elif 'Archived Events' in adrielReports[i]['label']:\n",
    "            archivedAttendees = adrielReports[i]\n",
    "        elif 'Non-archived' in adrielReports[i]:\n",
    "            nonArchivedEvents = adrielReports[i]\n",
    "        else:\n",
    "            print(\"Named %n reports\" %(i +1))\n",
    "            break\n",
    "\n",
    "    ## Run reports\n",
    "    payload = {'format':'csv'}\n",
    "    studentReport = RunReport(fullStudent['id'], headers, payload)\n",
    "    attendeeReport = RunReport(archivedAttendees['id'], headers, payload)\n",
    "    attendeeReport2 = RunReport(nonArchivedEvents['id'], headers, payload)\n",
    "\n",
    "    ## Append the attendee reports and merge\n",
    "    attendeeReport = attendeeReport.append(attendeeReport2)\n",
    "    attendeeReport = attendeeReport.merge(studentReport, left_on='Kiosk Swipe Log: student', right_on='Name')\n",
    "    attendeeReport.to_csv(path_of_buf = '~/MAIN/BCC/Club\\ data/attendeeReport.csv')"
   ]
  },
  {
   "cell_type": "code",
   "execution_count": 2,
   "metadata": {},
   "outputs": [
    {
     "name": "stdout",
     "output_type": "stream",
     "text": [
      "[{'id': 'ed00dd19bc35455ee260ea478a77c633', 'label': 'Non-archived Events - Marriott School Club and Attendees **ADRIEL**', 'description': '', 'lastRun': '2017-10-24T02:31:10'}, {'id': 'a041bd505d5e5d143798b79e88d64c00', 'label': 'Archived Events - Marriott School Club and Attendees **ADRIEL**', 'description': '', 'lastRun': '2017-10-24T02:30:57'}, {'id': 'e5dcb7ef720881dc8a580753d14d9e84', 'label': 'Full Student List **ADRIEL**', 'description': 'List of all current students and their contact info', 'lastRun': '2017-10-24T02:30:33'}]\n"
     ]
    },
    {
     "ename": "TypeError",
     "evalue": "'int' object is not iterable",
     "output_type": "error",
     "traceback": [
      "\u001b[0;31m---------------------------------------------------------------------------\u001b[0m",
      "\u001b[0;31mTypeError\u001b[0m                                 Traceback (most recent call last)",
      "\u001b[0;32m<ipython-input-2-58ca95c5b364>\u001b[0m in \u001b[0;36m<module>\u001b[0;34m()\u001b[0m\n\u001b[0;32m----> 1\u001b[0;31m \u001b[0mmain\u001b[0m\u001b[0;34m(\u001b[0m\u001b[0;34m)\u001b[0m\u001b[0;34m\u001b[0m\u001b[0m\n\u001b[0m",
      "\u001b[0;32m<ipython-input-1-74d712997274>\u001b[0m in \u001b[0;36mmain\u001b[0;34m()\u001b[0m\n\u001b[1;32m     63\u001b[0m \u001b[0;34m\u001b[0m\u001b[0m\n\u001b[1;32m     64\u001b[0m     \u001b[0;31m## Name all of the reports based on label\u001b[0m\u001b[0;34m\u001b[0m\u001b[0;34m\u001b[0m\u001b[0m\n\u001b[0;32m---> 65\u001b[0;31m     \u001b[0;32mfor\u001b[0m \u001b[0mi\u001b[0m \u001b[0;32min\u001b[0m \u001b[0mlen\u001b[0m\u001b[0;34m(\u001b[0m\u001b[0madrielReports\u001b[0m\u001b[0;34m)\u001b[0m\u001b[0;34m:\u001b[0m\u001b[0;34m\u001b[0m\u001b[0m\n\u001b[0m\u001b[1;32m     66\u001b[0m         \u001b[0;32mif\u001b[0m \u001b[0;34m'Full Student List'\u001b[0m \u001b[0;32min\u001b[0m \u001b[0madrielReports\u001b[0m\u001b[0;34m[\u001b[0m\u001b[0mi\u001b[0m\u001b[0;34m]\u001b[0m\u001b[0;34m[\u001b[0m\u001b[0;34m'label'\u001b[0m\u001b[0;34m]\u001b[0m\u001b[0;34m:\u001b[0m\u001b[0;34m\u001b[0m\u001b[0m\n\u001b[1;32m     67\u001b[0m             \u001b[0mfullStudent\u001b[0m \u001b[0;34m=\u001b[0m \u001b[0madrielReports\u001b[0m\u001b[0;34m[\u001b[0m\u001b[0mi\u001b[0m\u001b[0;34m]\u001b[0m\u001b[0;34m\u001b[0m\u001b[0m\n",
      "\u001b[0;31mTypeError\u001b[0m: 'int' object is not iterable"
     ]
    }
   ],
   "source": [
    "main()"
   ]
  },
  {
   "cell_type": "code",
   "execution_count": null,
   "metadata": {
    "collapsed": true
   },
   "outputs": [],
   "source": []
  }
 ],
 "metadata": {
  "kernelspec": {
   "display_name": "Python 3",
   "language": "python",
   "name": "python3"
  },
  "language_info": {
   "codemirror_mode": {
    "name": "ipython",
    "version": 3
   },
   "file_extension": ".py",
   "mimetype": "text/x-python",
   "name": "python",
   "nbconvert_exporter": "python",
   "pygments_lexer": "ipython3",
   "version": "3.6.1"
  }
 },
 "nbformat": 4,
 "nbformat_minor": 2
}
